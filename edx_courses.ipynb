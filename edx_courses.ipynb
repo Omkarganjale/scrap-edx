{
 "cells": [
  {
   "cell_type": "markdown",
   "metadata": {},
   "source": [
    "## Parsing Courses on edx.org"
   ]
  },
  {
   "cell_type": "code",
   "execution_count": null,
   "metadata": {},
   "outputs": [],
   "source": [
    "from selenium import webdriver\n",
    "import time\n",
    "import pandas as pd"
   ]
  },
  {
   "cell_type": "code",
   "execution_count": null,
   "metadata": {},
   "outputs": [],
   "source": [
    "#subjects\n",
    "subjects = ['Architecture','Art & Culture', 'Biology & Life Sciences', 'Business & Management', 'Chemistry', 'Communication', 'Computer Science', 'Data Analysis & Statistics', 'Design', 'Economics & Finance', 'Education & Teacher Training', 'Electronics', 'Energy & Earth Sciences', 'Engineering', 'Environmental Studies', 'Ethics', 'Food & Nutrition', 'Health & Safety', 'History', 'Humanities', 'Language', 'Law', 'Literature', 'Math', 'Medicine', 'Music', 'Philanthropy', 'Philosophy & Ethics', 'Physics', 'Science', 'Social Sciences']\n",
    "\n",
    "\n",
    "#course tab on edx.org\n",
    "base_website = 'https://www.edx.org/search?tab=course'\n",
    "\n",
    "#query string as per subject\n",
    "# eg for Chemistry, https://www.edx.org/search?tab=course&subject=Chemistry\n",
    "website = 'https://www.edx.org/search?tab=course&subject={courseName}'\n",
    "\n",
    "# maximum number of courses to parse per subject\n",
    "MAX_COURSES_PER_SUBJECT = 27"
   ]
  },
  {
   "cell_type": "code",
   "execution_count": null,
   "metadata": {},
   "outputs": [],
   "source": [
    "# return url for the passed on subject\n",
    "def subjectUrl(subName):\n",
    "    subName = subName.replace(\" \",\"%20\").replace(\"&\",\"%26\")\n",
    "    return website.format(courseName=subName)"
   ]
  },
  {
   "cell_type": "code",
   "execution_count": null,
   "metadata": {},
   "outputs": [],
   "source": [
    "## NOTE: Configure WebDriver \n",
    "driver = webdriver.Edge('../SeleniumDrivers/msedgedriver.exe')"
   ]
  },
  {
   "cell_type": "markdown",
   "metadata": {},
   "source": [
    "### Data \n",
    "Description of the data frame fields\n",
    "\n",
    "| subject |    Subject of course |\n",
    "|---------|----------------------|\n",
    "| title |      Course Title |\n",
    "| desc |       Course Description|\n",
    "|weeks|      Estimated Weeks required to complete|\n",
    "|hours|      Average hours per week for completion|\n",
    "|outcome|    What you'll learn|\n",
    "|instit|         Hosting Institure|\n",
    "|level|      Difficulty level of course|\n",
    "|prereq|     Prerequisite of course|\n",
    "|lang|       Language|\n",
    "|url|        URL of course|\n",
    "\n"
   ]
  },
  {
   "cell_type": "code",
   "execution_count": null,
   "metadata": {},
   "outputs": [],
   "source": [
    "subj = []\n",
    "title = []\n",
    "desc = []\n",
    "weeks = []\n",
    "hours = []\n",
    "instit = []\n",
    "level = []\n",
    "prereq = []\n",
    "outcome = []\n",
    "lang = []\n",
    "url = []"
   ]
  },
  {
   "cell_type": "code",
   "execution_count": null,
   "metadata": {},
   "outputs": [],
   "source": [
    "try:\n",
    "    for subject in subjects:\n",
    "\n",
    "        #load the subject page\n",
    "        driver.get(subjectUrl(subject))\n",
    "        time.sleep(3)\n",
    "\n",
    "        #Counter cnt\n",
    "        cnt = 0\n",
    "\n",
    "        #list of webelements with course links\n",
    "        course_list_raw = []\n",
    "        course_list = []\n",
    "\n",
    "        #do ... while cnt <= MAX_COURSES_PER_SUBJECT and next is enabled\n",
    "        while(cnt <= MAX_COURSES_PER_SUBJECT):\n",
    "\n",
    "            iter_list = driver.find_elements_by_xpath(\"/html//main[@id='main-content']/div[@class='new-search-page search-results']/div[3]/div/div[@class='pgn__data-table-layout-wrapper']//div[@class='row']/div[*]/div[@role='group']/a\")\n",
    "\n",
    "            if ( MAX_COURSES_PER_SUBJECT > cnt + len(iter_list) ):\n",
    "                #Filter out the urls from elements \n",
    "                course_list += list(map(lambda x: str(x.get_attribute('href')), iter_list))\n",
    "                cnt += len(iter_list)\n",
    "\n",
    "            else:\n",
    "                #Filter out the urls from elements \n",
    "                course_list += list(map(lambda x: str(x.get_attribute('href')), iter_list[:(MAX_COURSES_PER_SUBJECT-cnt)]))\n",
    "                cnt += MAX_COURSES_PER_SUBJECT-cnt\n",
    "            \n",
    "            # NEXT button on course result page\n",
    "            NEXT_BTN = driver.find_element_by_xpath(\"/html//main[@id='main-content']/div[@class='new-search-page search-results']/div[3]/div//div[@class='pgn__data-table-wrapper']/div[1]/nav/ul[@class='pagination']//button[@class='btn next page-link']\")\n",
    "\n",
    "            # if cnt<MAX_COURSES_PER_SUBJECT and NEXT_BTN is enabled\n",
    "            if(cnt<MAX_COURSES_PER_SUBJECT and NEXT_BTN.is_enabled()):\n",
    "                NEXT_BTN.click()\n",
    "                time.sleep(2)\n",
    "            else:\n",
    "                break\n",
    "\n",
    "        # Subject and count\n",
    "        print(\"\\nSubject: \", subject)\n",
    "        print(\"Count: \",cnt)\n",
    "\n",
    "        #FOO    \n",
    "        # for i in course_list:\n",
    "        #     print(i)  \n",
    "        \n",
    "        for course_page in course_list:\n",
    "\n",
    "            driver.get(course_page)\n",
    "\n",
    "            tit = driver.find_element_by_css_selector('.col-md-7.pr-4 > h1').text\n",
    "\n",
    "            des = driver.find_element_by_xpath(\"//div[@class='p']\").text\n",
    "\n",
    "            wee = driver.find_element_by_xpath(\"/html//main[@id='main-content']/div[@class='course-about course-info-content']/div[@class='d-flex flex-column flex-sm-column-reverse']/div[@class='course-snapshot-background']//div[@class='course-snapshot-content py-2 text-primary-500']/div/div[1]/div[@class='ml-3']/div[@class='h4 mb-0']\").text\n",
    "            wee = wee.replace('Estimated ','').replace(' weeks', '')\n",
    "\n",
    "            hou = driver.find_element_by_xpath(\"/html//main[@id='main-content']/div[@class='course-about course-info-content']/div[@class='d-flex flex-column flex-sm-column-reverse']/div[@class='course-snapshot-background']//div[@class='course-snapshot-content py-2 text-primary-500']/div/div[1]/div[@class='ml-3']/div[@class='small']\").text\n",
    "            hou = hou.replace('hours per week','')\n",
    "\n",
    "            ins = driver.find_element_by_css_selector('li:nth-of-type(1) > .inline-link.muted-link').text\n",
    "\n",
    "            lev = driver.find_element_by_css_selector('.mb-0.ml-1.pl-3 > li:nth-of-type(3)').text\n",
    "            lev = lev.replace('Level: ', '')\n",
    "\n",
    "            pre = driver.find_element_by_css_selector('.mb-0.ml-1.pl-3 p, .mb-0.ml-1.pl-3 div').text\n",
    "\n",
    "            out = driver.find_element_by_xpath(\"/html//main[@id='main-content']/div[@class='course-about course-info-content']/div[3]/div/div[3 or 4]/div[@class='preview-expand-component']/div[2]/div/*\").get_attribute('innerHTML')\n",
    "            \n",
    "            lan = driver.find_element_by_css_selector('div:nth-of-type(2) > .mb-0.ml-1.pl-3 > li:nth-of-type(1)').text\n",
    "            lan = lan.replace('Language: ','')\n",
    "\n",
    "            #print(tit, des, wee, hou, ins, lev, pre, out, lan, sep='\\n')\n",
    "\n",
    "\n",
    "            # append values into list\n",
    "            subj.append(subject)\n",
    "            title.append(tit)\n",
    "            desc.append(des)\n",
    "            weeks.append(wee)\n",
    "            hours.append(hou)\n",
    "            instit.append(ins)\n",
    "            level.append(lev)\n",
    "            prereq.append(pre)\n",
    "            outcome.append(out)\n",
    "            lang.append(lan)\n",
    "            url.append(course_page)\n",
    "            \n",
    "except:\n",
    "    print('Process interupted due to an error at url', driver.current_url)\n",
    "\n"
   ]
  },
  {
   "cell_type": "code",
   "execution_count": null,
   "metadata": {},
   "outputs": [],
   "source": [
    "#closing the browser\n",
    "driver.close()"
   ]
  },
  {
   "cell_type": "code",
   "execution_count": null,
   "metadata": {},
   "outputs": [],
   "source": [
    "df = pd.DataFrame({'subject': subj, 'title': title, 'description': desc, 'weeks': weeks, 'hours': hours, 'institute': instit, 'level':level, 'prerequisites': prereq, 'outcomes': outcome, 'Languages': lang, 'url': url})\n",
    "df.to_csv('edx-course.csv')\n",
    "df"
   ]
  }
 ],
 "metadata": {
  "interpreter": {
   "hash": "63fd5069d213b44bf678585dea6b12cceca9941eaf7f819626cde1f2670de90d"
  },
  "kernelspec": {
   "display_name": "Python 3.9.1 64-bit",
   "language": "python",
   "name": "python3"
  },
  "language_info": {
   "codemirror_mode": {
    "name": "ipython",
    "version": 3
   },
   "file_extension": ".py",
   "mimetype": "text/x-python",
   "name": "python",
   "nbconvert_exporter": "python",
   "pygments_lexer": "ipython3",
   "version": "3.9.1"
  },
  "orig_nbformat": 4
 },
 "nbformat": 4,
 "nbformat_minor": 2
}
